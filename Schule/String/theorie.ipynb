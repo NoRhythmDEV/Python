{
    "cells": [
     {
      "cell_type": "markdown",
      "metadata": {},
      "source": [
       "# Zeichenketten (Strings)\n",
       "Neben numerischen Datentypen kennt Python auch Zeichenketten, die häufig mit dem englischen Ausdruck \"Strings\" bezeichnet werden. Zeichenkette bestehen aus einer **unveränderlichen** Folge - also Sequenz von beliebigen Zeichen.\n",
       "\n",
       "- https://www.w3schools.com/python/python_strings.asp"
      ]
     },
     {
      "cell_type": "code",
      "execution_count": 2,
      "metadata": {},
      "outputs": [
       {
        "name": "stdout",
        "output_type": "stream",
        "text": [
         "Ein \"String\" mit einfachen Quotes\n",
         "Nachbar's Dackel heißt Waldi\n",
         "Er sagte \"Herr Meier's Dackel bellt immer!\" \n",
         "Er sagte, \"Herr Meier's Dackel bellt immer!\"\n"
        ]
       }
      ],
      "source": [
       "s1 = 'Ein \"String\" mit einfachen Quotes'\n",
       "s2 = \"Nachbar's Dackel heißt Waldi\"\n",
       "s3 = '''Er sagte \"Herr Meier's Dackel bellt immer!\" '''\n",
       "s4 = \"Er sagte, \\\"Herr Meier's Dackel bellt immer!\\\"\"\n",
       "print(s1)\n",
       "print(s2)\n",
       "print(s3)\n",
       "print(s4)"
      ]
     },
     {
      "cell_type": "code",
      "execution_count": 3,
      "metadata": {},
      "outputs": [
       {
        "name": "stdout",
        "output_type": "stream",
        "text": [
         "Ein String kann auch über mehrere Zeilen geschrieben werden und funktioniert auch mit '  '\n",
         "90\n"
        ]
       }
      ],
      "source": [
       "s4 = \"Ein String \\\n",
       "kann auch über \\\n",
       "mehrere Zeilen \\\n",
       "geschrieben werden \\\n",
       "und funktioniert auch mit '  '\"\n",
       "print(s4)\n",
       "print(len(s4))"
      ]
     },
     {
      "cell_type": "markdown",
      "metadata": {},
      "source": [
       "## Operationen mit Strings\n",
       "**Beachte:**  Alle String-Funktionen geben neue Werte zurück. Sie ändern die ursprüngliche Zeichenfolge nicht.\n",
       "- weitere Operationen siehe https://www.w3schools.com/python/python_strings.asp"
      ]
     },
     {
      "cell_type": "code",
      "execution_count": 9,
      "metadata": {},
      "outputs": [
       {
        "name": "stdout",
        "output_type": "stream",
        "text": [
         " Hallo, Welt! \n",
         "Hallo, Welt!\n",
         "hallo, welt!\n",
         "HALLO, WELT!\n",
         "True\n",
         "Hallo Welt\n",
         "['Hallo', 'Welt']\n"
        ]
       }
      ],
      "source": [
       "a = \" Hallo,\" + \" Welt! \" # Strings verketten mit +\n",
       "print(a)           # \" Hallo, Welt! \"\n",
       "b = a.strip()     \n",
       "print(b)           # \"Hallo, Welt!\"\n",
       "c = b.lower()\n",
       "print(c)           # \"hallo, welt!\"\n",
       "d = b.upper()   \n",
       "print(d)           # \"HALLO, WELT!\"\n",
       "f = \", \" in b      # gibt es auch mit not in\n",
       "print(f)           # True\n",
       "\n",
       "e = b.replace(\",\",\"\").replace(\"!\",\"\")\n",
       "print(e)           # \"Hallo Welt\"\n",
       "splittet = e.split(\" \") # Trenne am Trennzeichen \" \"\n",
       "print(splittet)    # ['Hallo', 'Welt']"
      ]
     },
     {
      "cell_type": "markdown",
      "metadata": {},
      "source": [
       "### Strings formatieren\n",
       "- siehe https://www.w3schools.com/python/ref_string_format.asp"
      ]
     },
     {
      "cell_type": "code",
      "execution_count": 14,
      "metadata": {},
      "outputs": [
       {
        "name": "stdout",
        "output_type": "stream",
        "text": [
         "Sonderangebot: Nur 39.99 Euro!\n",
         "Der Preis: 49.90\n"
        ]
       }
      ],
      "source": [
       "price = 39.995\n",
       "txt1 = f\"Sonderangebot: Nur {price:.2f} Euro!\"\n",
       "txt2 = txt1.format(price = 49.8976) \n",
       "print(txt2)\n",
       "\n",
       "\n",
       "p = 49.8976\n",
       "print(f\"Der Preis: {p:.2f}\")"
      ]
     },
     {
      "cell_type": "markdown",
      "metadata": {},
      "source": [
       "### Bei Strings handelt es sich um einen sequenziellen Datentyp\n",
       "Die einzelnen Zeichen können infolgedessen wie bei einer Liste angesprochen werden."
      ]
     },
     {
      "cell_type": "code",
      "execution_count": 23,
      "metadata": {},
      "outputs": [
       {
        "name": "stdout",
        "output_type": "stream",
        "text": [
         "H a l l o   W e l t ! \n",
         "0 : H 1 : a 2 : l 3 : l 4 : o 5 :   6 : W 7 : e 8 : l 9 : t 10 : ! "
        ]
       }
      ],
      "source": [
       "s = \"Hallo Welt!\"\n",
       "# Zeichen mittels Index auslesen\n",
       "for i in range(len(s)):\n",
       "    print(s[i], end = \" \")\n",
       "print(\"\")\n",
       "for i in range(11):\n",
       "    print(f\"{i} : {s[i]}\", end = \" \")\n",
       "\n"
      ]
     },
     {
      "cell_type": "code",
      "execution_count": 25,
      "metadata": {},
      "outputs": [
       {
        "name": "stdout",
        "output_type": "stream",
        "text": [
         "H a l l o   W e l t ! "
        ]
       }
      ],
      "source": [
       "# mit foreach-Schleife durchlaufen\n",
       "for c in s:\n",
       "    print(c, end=\" \")"
      ]
     },
     {
      "cell_type": "code",
      "execution_count": 32,
      "metadata": {},
      "outputs": [
       {
        "name": "stdout",
        "output_type": "stream",
        "text": [
         "Welt!\n",
         "Welt\n",
         "OLLAH\n"
        ]
       }
      ],
      "source": [
       "# List Slicing funktioniert auch bei Strings\n",
       "print(s[6:])     # Welt!\n",
       "print(s[6:-1])   # Welt\n",
       "print(s[4::-1].upper())  # ollah"
      ]
     },
     {
      "cell_type": "markdown",
      "metadata": {},
      "source": [
       "### Wie man eine Zeichenfolge in Python in der Reihenfolge umdrehen kann\n",
       "Angenommen s1 ist eine Zeichenkette. Die Slice-Notation in Python hat die Syntax `list[<start>:<stop>:<step>]`  \n",
       "Wenn Sie die Liste also mit `s1[::-1]` durchgehen, wird die Liste vom Ende zum Anfang durchlaufen, wobei jedes Element genommen wird. Dies funktioniert auch mit Listen/Tupel."
      ]
     },
     {
      "cell_type": "code",
      "execution_count": 36,
      "metadata": {},
      "outputs": [
       {
        "name": "stdout",
        "output_type": "stream",
        "text": [
         "dlroW olleH\n",
         "False\n",
         "OTTO\n",
         "True\n"
        ]
       }
      ],
      "source": [
       "s1 = \"Hello World\"\n",
       "s2 = s1[::-1]\n",
       "print(s2)\n",
       "print(s1==s2)  # Pallindrom?\n",
       "s3 = \"Otto\"\n",
       "s4 = s3[::-1]\n",
       "print(s4.upper())\n",
       "print(s3.lower()==s4.lower())  # Pallindrom?"
      ]
     },
     {
      "cell_type": "markdown",
      "metadata": {},
      "source": [
       "### Was funktioniert nicht!!"
      ]
     },
     {
      "cell_type": "code",
      "execution_count": 39,
      "metadata": {},
      "outputs": [
       {
        "ename": "TypeError",
        "evalue": "can only concatenate str (not \"int\") to str",
        "output_type": "error",
        "traceback": [
         "\u001b[0;31m---------------------------------------------------------------------------\u001b[0m",
         "\u001b[0;31mTypeError\u001b[0m                                 Traceback (most recent call last)",
         "\u001b[1;32m/Users/Daniel/Documents/03-Schule/29-Python/Notebooks-20230621/04T - Zeichenketten - Strings.ipynb Zelle 15\u001b[0m line \u001b[0;36m4\n\u001b[1;32m      <a href='vscode-notebook-cell:/Users/Daniel/Documents/03-Schule/29-Python/Notebooks-20230621/04T%20-%20Zeichenketten%20-%20Strings.ipynb#X20sZmlsZQ%3D%3D?line=1'>2</a>\u001b[0m age \u001b[39m=\u001b[39m \u001b[39m17\u001b[39m\n\u001b[1;32m      <a href='vscode-notebook-cell:/Users/Daniel/Documents/03-Schule/29-Python/Notebooks-20230621/04T%20-%20Zeichenketten%20-%20Strings.ipynb#X20sZmlsZQ%3D%3D?line=2'>3</a>\u001b[0m s \u001b[39m=\u001b[39m \u001b[39m\"\u001b[39m\u001b[39mHallo\u001b[39m\u001b[39m\"\u001b[39m\n\u001b[0;32m----> <a href='vscode-notebook-cell:/Users/Daniel/Documents/03-Schule/29-Python/Notebooks-20230621/04T%20-%20Zeichenketten%20-%20Strings.ipynb#X20sZmlsZQ%3D%3D?line=3'>4</a>\u001b[0m txt \u001b[39m=\u001b[39m \u001b[39m\"\u001b[39;49m\u001b[39mMy name is John, I am \u001b[39;49m\u001b[39m\"\u001b[39;49m \u001b[39m+\u001b[39;49m age\n\u001b[1;32m      <a href='vscode-notebook-cell:/Users/Daniel/Documents/03-Schule/29-Python/Notebooks-20230621/04T%20-%20Zeichenketten%20-%20Strings.ipynb#X20sZmlsZQ%3D%3D?line=4'>5</a>\u001b[0m \u001b[39mprint\u001b[39m(txt)\n\u001b[1;32m      <a href='vscode-notebook-cell:/Users/Daniel/Documents/03-Schule/29-Python/Notebooks-20230621/04T%20-%20Zeichenketten%20-%20Strings.ipynb#X20sZmlsZQ%3D%3D?line=5'>6</a>\u001b[0m \u001b[39m# wenn dann so!!\u001b[39;00m\n\u001b[1;32m      <a href='vscode-notebook-cell:/Users/Daniel/Documents/03-Schule/29-Python/Notebooks-20230621/04T%20-%20Zeichenketten%20-%20Strings.ipynb#X20sZmlsZQ%3D%3D?line=6'>7</a>\u001b[0m \u001b[39m#txt = \"My name is John, I am \" + str(age) #mit type cast\u001b[39;00m\n\u001b[1;32m      <a href='vscode-notebook-cell:/Users/Daniel/Documents/03-Schule/29-Python/Notebooks-20230621/04T%20-%20Zeichenketten%20-%20Strings.ipynb#X20sZmlsZQ%3D%3D?line=7'>8</a>\u001b[0m \u001b[39m#txt = f\"My name is John, I am {age}.\" #f-string\u001b[39;00m\n\u001b[1;32m      <a href='vscode-notebook-cell:/Users/Daniel/Documents/03-Schule/29-Python/Notebooks-20230621/04T%20-%20Zeichenketten%20-%20Strings.ipynb#X20sZmlsZQ%3D%3D?line=8'>9</a>\u001b[0m \u001b[39m#print(txt)\u001b[39;00m\n",
         "\u001b[0;31mTypeError\u001b[0m: can only concatenate str (not \"int\") to str"
        ]
       }
      ],
      "source": [
       "# str und int können nicht mit dem + Operator verküpft werden\n",
       "age = 17\n",
       "s = \"Hallo\"\n",
       "txt = \"My name is John, I am \" + age\n",
       "print(txt)\n",
       "# wenn dann so!!\n",
       "#txt = \"My name is John, I am \" + str(age) #mit type cast\n",
       "#txt = f\"My name is John, I am {age}.\" #f-string\n",
       "#print(txt)"
      ]
     },
     {
      "cell_type": "code",
      "execution_count": 47,
      "metadata": {},
      "outputs": [
       {
        "name": "stdout",
        "output_type": "stream",
        "text": [
         "Hallo Welt\n"
        ]
       }
      ],
      "source": [
       "# Eine Zeichenkette ist unveränderlich (immutable)\n",
       "# Es können also auch keine einzelnen Zeichen in der Zeichenkette ersetzt werden.\n",
       "s = \"Hello Welt\"\n",
       "#s[1] = \"a\"\n",
       "#s = s.replace(\"e\",\"a\",1)\n",
       "#s = \"Hallo Welt\"\n",
       "print(s)\n",
       "#numbers=[2,3,4,5,6,7]\n",
       "#print(numbers)\n",
       "#numbers[1]=999\n",
       "#print(numbers)"
      ]
     }
    ],
    "metadata": {
     "kernelspec": {
      "display_name": "Python 3",
      "language": "python",
      "name": "python3"
     },
     "language_info": {
      "codemirror_mode": {
       "name": "ipython",
       "version": 3
      },
      "file_extension": ".py",
      "mimetype": "text/x-python",
      "name": "python",
      "nbconvert_exporter": "python",
      "pygments_lexer": "ipython3",
      "version": "3.11.1"
     }
    },
    "nbformat": 4,
    "nbformat_minor": 4
   }