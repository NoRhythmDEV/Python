{
 "cells": [
  {
   "cell_type": "markdown",
   "metadata": {},
   "source": [
    "# Aufgaben zu Zeichenketten (Strings)\n",
    "\n",
    "In der Datei adressen.txt befinden sich Adressen von Freunden, die aus einer Excel-Datei stammen könnten.   \n",
    "Diese soll unterschiedlich ausgewertet werden.\n",
    "\n",
    "1. Geben Sie eine verkürzte Adressliste auf der Konsole in folgender Form aus.  \n",
    "F.Meyer - Tel: 07732/43452  \n",
    "P.Rabe - Tel: 07531/70021\n",
    "...\n"
   ]
  },
  {
   "cell_type": "code",
   "execution_count": 13,
   "metadata": {},
   "outputs": [
    {
     "name": "stdout",
     "output_type": "stream",
     "text": [
      "Frank\n",
      "Peter\n",
      "Otmar\n",
      "Anna\n",
      "Oskar\n",
      "Anna\n",
      "Franziska\n",
      "Sarah\n"
     ]
    }
   ],
   "source": [
    "fh = open(\"adressen.txt\",encoding=\"iso-8859-1\")\n",
    "for i in fh:              # Zeilenweise aus der Datei lesen\n",
    "    address = address.strip()   # Zeilenumbruch entfernen\n",
    "    i = i.split(\";\")\n",
    "    print(i[0], end=\" \")\n",
    "    print(i[1])\n",
    "\n",
    "\n"
   ]
  },
  {
   "cell_type": "markdown",
   "metadata": {},
   "source": [
    "2. Geben Sie Vorname und Nachname aller aus Konstanz stammenden Freunde auf der Konsole aus.  \n",
    "Peter Rabe  \n",
    "Oskar Lindner...  "
   ]
  },
  {
   "cell_type": "code",
   "execution_count": 14,
   "metadata": {},
   "outputs": [],
   "source": [
    "# code\n"
   ]
  },
  {
   "cell_type": "markdown",
   "metadata": {},
   "source": [
    "3. Geben Sie alle in einer Liste enthaltenen Palindrome aus.  \n",
    "(Zur Erinnerung: Ein Wortpalindrom ist ein Wort, das rückwärts gelesen dasselbe Wort ergibt.)\n"
   ]
  },
  {
   "cell_type": "code",
   "execution_count": 15,
   "metadata": {},
   "outputs": [],
   "source": [
    "liste = [\"Otto\",\"Hallo\",\"Test\",\"Lagerregal\",\"Egge\",\"Hannah\",\"Kajak\",\"Warum\",\"also\",\"Radar\",\"Rentner\"]\n",
    "# insert code here\n"
   ]
  }
 ],
 "metadata": {
  "kernelspec": {
   "display_name": "Python 3",
   "language": "python",
   "name": "python3"
  },
  "language_info": {
   "codemirror_mode": {
    "name": "ipython",
    "version": 3
   },
   "file_extension": ".py",
   "mimetype": "text/x-python",
   "name": "python",
   "nbconvert_exporter": "python",
   "pygments_lexer": "ipython3",
   "version": "3.11.7"
  }
 },
 "nbformat": 4,
 "nbformat_minor": 4
}
