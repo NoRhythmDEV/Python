{
 "cells": [
  {
   "cell_type": "markdown",
   "metadata": {},
   "source": [
    "# Aufgaben zu Zeichenketten (Strings)\n",
    "\n",
    "In der Datei adressen.txt befinden sich Adressen von Freunden, die aus einer Excel-Datei stammen könnten.   \n",
    "Diese soll unterschiedlich ausgewertet werden.\n",
    "\n",
    "1. Geben Sie eine verkürzte Adressliste auf der Konsole in folgender Form aus.  \n",
    "F.Meyer - Tel: 07732/43452  \n",
    "P.Rabe - Tel: 07531/70021\n",
    "...\n"
   ]
  },
  {
   "cell_type": "code",
   "execution_count": 4,
   "metadata": {},
   "outputs": [
    {
     "name": "stdout",
     "output_type": "stream",
     "text": [
      "F.Meyer - Tel: 07732/43452\n",
      "P.Rabe - Tel: 07531/70021\n",
      "O.Huber - Tel: 08031/7877-0\n",
      "A.Rabe - Tel: 07732/2343\n",
      "O.Lindner - Tel: 07531/890\n",
      "A.List - Tel: 089/3434544\n",
      "F.Huber - Tel: 08031/787878\n",
      "S.Rabe - Tel: 07531/343454\n"
     ]
    }
   ],
   "source": [
    "fh = open(\"adressen.txt\",encoding=\"iso-8859-1\")\n",
    "for i in fh:              # Zeilenweise aus der Datei lesen\n",
    "    i = i.strip()         # Zeilenumbruch entfernen\n",
    "    i = i.split(\";\")\n",
    "    print(f\"{i[0][0]}.{i[1]} - Tel: {i[3]}\")\n",
    "\n",
    "\n"
   ]
  },
  {
   "cell_type": "markdown",
   "metadata": {},
   "source": [
    "2. Geben Sie Vorname und Nachname aller aus Konstanz stammenden Freunde auf der Konsole aus.  \n",
    "Peter Rabe  \n",
    "Oskar Lindner...  "
   ]
  },
  {
   "cell_type": "code",
   "execution_count": 22,
   "metadata": {},
   "outputs": [
    {
     "name": "stdout",
     "output_type": "stream",
     "text": [
      "Folgende Personen wohnen in Konstanz:\n",
      "\n",
      "Peter Rabe\n",
      "Oskar Lindner\n",
      "Sarah Rabe\n"
     ]
    }
   ],
   "source": [
    "# code\n",
    "fh = open(\"adressen.txt\",encoding=\"iso-8859-1\")\n",
    "\n",
    "print(f\"Folgende Personen wohnen in Konstanz:\\n\")\n",
    "for i in fh:\n",
    "    i = i.strip()\n",
    "    i = i.split(\";\")\n",
    "    if i[2] == \"Konstanz\":\n",
    "        print(f\"{i[0]} {i[1]}\")\n",
    "    "
   ]
  },
  {
   "cell_type": "markdown",
   "metadata": {},
   "source": [
    "3. Geben Sie alle in einer Liste enthaltenen Palindrome aus.  \n",
    "(Zur Erinnerung: Ein Wortpalindrom ist ein Wort, das rückwärts gelesen dasselbe Wort ergibt.)\n"
   ]
  },
  {
   "cell_type": "code",
   "execution_count": 26,
   "metadata": {},
   "outputs": [
    {
     "name": "stdout",
     "output_type": "stream",
     "text": [
      "otto | otto = Palindrome\n",
      "hallo | ollah != Palindrome\n",
      "test | tset != Palindrome\n",
      "lagerregal | lagerregal = Palindrome\n",
      "egge | egge = Palindrome\n",
      "hannah | hannah = Palindrome\n",
      "kajak | kajak = Palindrome\n",
      "warum | muraw != Palindrome\n",
      "also | osla != Palindrome\n",
      "radar | radar = Palindrome\n",
      "rentner | rentner = Palindrome\n",
      "lagerregal | lagerregal = Palindrome\n"
     ]
    }
   ],
   "source": [
    "liste = [\"Otto\",\"Hallo\",\"Test\",\"Lagerregal\",\"Egge\",\"Hannah\",\"Kajak\",\"Warum\",\"also\",\"Radar\",\"Rentner\",\"Lagerregal\"]\n",
    "for i in liste:\n",
    "    i = i.lower()\n",
    "    if i == i[::-1]:\n",
    "        print(f\"{i} | {i[::-1]} = Palindrome\")\n",
    "    else:\n",
    "        print(f\"{i} | {i[::-1]} != Palindrome\")\n",
    "\n",
    "# insert code here\n"
   ]
  }
 ],
 "metadata": {
  "kernelspec": {
   "display_name": "Python 3",
   "language": "python",
   "name": "python3"
  },
  "language_info": {
   "codemirror_mode": {
    "name": "ipython",
    "version": 3
   },
   "file_extension": ".py",
   "mimetype": "text/x-python",
   "name": "python",
   "nbconvert_exporter": "python",
   "pygments_lexer": "ipython3",
   "version": "3.11.7"
  }
 },
 "nbformat": 4,
 "nbformat_minor": 4
}
