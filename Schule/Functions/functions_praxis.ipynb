{
 "cells": [
  {
   "cell_type": "markdown",
   "metadata": {},
   "source": [
    "# Funktionen"
   ]
  },
  {
   "cell_type": "markdown",
   "metadata": {},
   "source": [
    "### Listen"
   ]
  },
  {
   "cell_type": "markdown",
   "metadata": {},
   "source": [
    "##### Aufgabe 1a\n",
    "Schreibe eine Funktion `schreibe_hoch3`, die als Argument eine Zahl $x$ übergeben bekommt, daraus den Wert $x^3$ berechnet und diesen **ausgibt**."
   ]
  },
  {
   "cell_type": "markdown",
   "metadata": {},
   "source": [
    "##### Lösung"
   ]
  },
  {
   "cell_type": "code",
   "execution_count": 25,
   "metadata": {},
   "outputs": [
    {
     "name": "stdout",
     "output_type": "stream",
     "text": [
      "27\n"
     ]
    }
   ],
   "source": [
    "# TODO: Hier Lösung ergänzen\n",
    "def schreibe_hoch3(x):\n",
    "    x = x**3\n",
    "    return x\n",
    "\n",
    "print(schreibe_hoch3(3))\n",
    "\n",
    "\n",
    "\n",
    "\n",
    "\n",
    "# Testaufruf:"
   ]
  },
  {
   "cell_type": "markdown",
   "metadata": {},
   "source": [
    "##### Aufgabe 1b\n",
    "Schreibe eine Funktion `hoch3`, die als Argument eine Zahl $x$ übergeben bekommt, daraus den Wert $x^3$ berechnet und diesen **zurückliefert**."
   ]
  },
  {
   "cell_type": "markdown",
   "metadata": {},
   "source": [
    "##### Lösung"
   ]
  },
  {
   "cell_type": "code",
   "execution_count": 26,
   "metadata": {},
   "outputs": [
    {
     "name": "stdout",
     "output_type": "stream",
     "text": [
      "125\n"
     ]
    }
   ],
   "source": [
    "# TODO: Hier Lösung ergänzen\n",
    "def hoch3(x):\n",
    "    x = x**3\n",
    "    return x\n",
    "\n",
    "x = input(\"Gib mir eine Zahl \")\n",
    "print(hoch3(int(x)))\n",
    "\n",
    "\n",
    "\n",
    "# Testaufruf:\n",
    "\n",
    "\n"
   ]
  },
  {
   "cell_type": "markdown",
   "metadata": {},
   "source": [
    "##### Aufgabe 1c\n",
    "Teste in der folgenden Zelle, ob deine Implementation von `hoch3()` korrekt funktioniert."
   ]
  },
  {
   "cell_type": "code",
   "execution_count": 27,
   "metadata": {},
   "outputs": [],
   "source": [
    "testdaten = [(-2, -8),  (-1.5, -3.375),  (-1, -1),  (-0.5, -0.125),  (0, 0),  (0.5, 0.125),  (1, 1),  (1.5, 3.375),  (2, 8),  (2.5, 15.625),  (3, 27)]\n",
    "\n",
    "for x, erwartet in testdaten:\n",
    "    ergebnis = hoch3(x)\n",
    "    assert erwartet == ergebnis, f\"\"\"Irgend etwas stimmt mit deine Funktion hoch3() noch nicht!\n",
    "        Erwartet wurde {erwartet}, aber dein Ergebnis war {ergebnis}\"\"\""
   ]
  },
  {
   "attachments": {},
   "cell_type": "markdown",
   "metadata": {},
   "source": [
    "##### Aufgabe 2\n",
    "Schreibe eine Funktion <code>name_vollständig</code>, die Vorname, Nachname und evtl. den zweiten Vornamen einer Person übergeben bekommt und den vollständigen Namen zurückliefert (d.h. einen einzigen String, in dem alle Teile des Namens durch Leerzeichen getrennt sind\n",
    "\n",
    "<details>\n",
    "  <summary>Hier klicken für Tipps</summary>\n",
    "    <p>Nutze ein Default-Argument.</p> \n",
    "    <p>Nutze die String-Methode join().</p> \n",
    "</details>\n"
   ]
  },
  {
   "cell_type": "markdown",
   "metadata": {},
   "source": [
    "##### Lösung"
   ]
  },
  {
   "cell_type": "code",
   "execution_count": 28,
   "metadata": {},
   "outputs": [
    {
     "name": "stdout",
     "output_type": "stream",
     "text": [
      "Guido van Rossum\n",
      "Wolfgang Amadeus Mozart\n",
      "Wolfgang Amadeus Mozart\n"
     ]
    }
   ],
   "source": [
    "# TODO: Hier Lösung ergänzen\n",
    "def name_vollstaendig(vorname1, nachname, vorname2=\"\"):\n",
    "    if vorname2 == \"\":\n",
    "        return vorname1 + \" \" + nachname\n",
    "    else:\n",
    "        return vorname1 + \" \" + vorname2 + \" \" + nachname\n",
    "\n",
    "def name_vollstaendig_elegant(vorname1, nachname, vorname2=\"\"):\n",
    "    teile = [vorname1, vorname2, nachname]\n",
    "    return \" \".join(n for n in teile if n != \"\")\n",
    "\n",
    "\n",
    "print(name_vollstaendig(\"Guido\", \"van Rossum\"))\n",
    "print(name_vollstaendig(\"Wolfgang\", \"Mozart\", vorname2=\"Amadeus\"))\n",
    "\n",
    "print(name_vollstaendig_elegant(\"Wolfgang\", \"Mozart\", vorname2=\"Amadeus\"))\n",
    "\n",
    "# Tests für deine Lösung:\n",
    "assert name_vollstaendig(\"Guido\", \"van Rossum\") == \"Guido van Rossum\", \"Irgend etwas stimmt mit deiner Funktion name_vollstaendig() noch nicht!\"\n",
    "assert name_vollstaendig(\"Wolfgang\", \"Mozart\", vorname2=\"Amadeus\") == \"Wolfgang Amadeus Mozart\", \"Irgend etwas stimmt mit deiner Funktion name_vollstaendig() noch nicht!\""
   ]
  },
  {
   "cell_type": "markdown",
   "metadata": {},
   "source": [
    "##### Aufgabe 3\n",
    "Das folgende Programm zeichnet ein Quadrat der Seitenlänge 6.  (Aus optischen Gründen wird in der Horizontalen nach jedem Sternchen ein Leerzeichen eingefügt.)"
   ]
  },
  {
   "cell_type": "code",
   "execution_count": 33,
   "metadata": {},
   "outputs": [
    {
     "name": "stdout",
     "output_type": "stream",
     "text": [
      "* * * * * * \n",
      "*         *\n",
      "*         *\n",
      "*         *\n",
      "*         *\n",
      "* * * * * * \n"
     ]
    }
   ],
   "source": [
    "for x_ in range(6):\n",
    "    print(\"* \", end=\"\")\n",
    "print()\n",
    "for _ in range(4):\n",
    "    print(\"*\", end=\"\")\n",
    "    for _ in range(9):\n",
    "        print(\" \", end=\"\")\n",
    "    print(\"*\")\n",
    "for _ in range(6):\n",
    "    print(\"* \", end=\"\")\n",
    "print()"
   ]
  },
  {
   "cell_type": "markdown",
   "metadata": {},
   "source": [
    "##### a) Schreibe eine Funktion `quadrat(n)`, die ein Quadrat mit beliebiger Seitenlänge `n` zeichnet."
   ]
  },
  {
   "cell_type": "code",
   "execution_count": 48,
   "metadata": {},
   "outputs": [
    {
     "name": "stdout",
     "output_type": "stream",
     "text": [
      "* * * * * * * * \n",
      "*             *\n",
      "*             *\n",
      "*             *\n",
      "*             *\n",
      "*             *\n",
      "*             *\n",
      "* * * * * * * * \n"
     ]
    }
   ],
   "source": [
    "# TODO: Hier Lösung ergänzen\n",
    "def quadrat(n:int):\n",
    "    for x_ in range(n):\n",
    "        print(\"* \", end=\"\")\n",
    "    print()\n",
    "    for _ in range(n-2):\n",
    "        print(\"*\", end=\"\")\n",
    "        for _ in range(n-2+n-2+1):\n",
    "            print(\" \", end=\"\")\n",
    "        print(\"*\")\n",
    "    for _ in range(n):\n",
    "        print(\"* \", end=\"\")\n",
    "    print()\n",
    "\n",
    "\n",
    "# Testaufruf:\n",
    "quadrat(8)  # sollte die gleichen Ausgabe erzeugen wie das Originalprogramm"
   ]
  },
  {
   "cell_type": "markdown",
   "metadata": {},
   "source": [
    "##### b) Ändere `quadrat()` so ab, dass für dem Rand und das Innere des Quadrats auch andere Zeichen gewählt werden können.  Z.B. so:\n",
    "```\n",
    "# # # # # # # # \n",
    "# - - - - - - #\n",
    "# - - - - - - #\n",
    "# - - - - - - #\n",
    "# - - - - - - #\n",
    "# - - - - - - #\n",
    "# - - - - - - #\n",
    "# # # # # # # # \n",
    "```"
   ]
  },
  {
   "cell_type": "code",
   "execution_count": 49,
   "metadata": {},
   "outputs": [
    {
     "name": "stdout",
     "output_type": "stream",
     "text": [
      "# * # * # * # * # * # * # * # * \n",
      "#* * * * * * * * * * * * * #\n",
      "#* * * * * * * * * * * * * #\n",
      "#* * * * * * * * * * * * * #\n",
      "#* * * * * * * * * * * * * #\n",
      "#* * * * * * * * * * * * * #\n",
      "#* * * * * * * * * * * * * #\n",
      "# * # * # * # * # * # * # * # * \n"
     ]
    }
   ],
   "source": [
    "# TODO: Hier Lösung ergänzen\n",
    "\n",
    "def quadrat(n, innen=\"\", rand=\"*\"):\n",
    "    for x_ in range(n):\n",
    "        print(rand, innen, end=\"\")\n",
    "    print()\n",
    "    for _ in range(n-2):\n",
    "        print(rand, end=\"\")\n",
    "        for _ in range(n-2+n-2+1):\n",
    "            print(innen, end=\"\")\n",
    "        print(rand)\n",
    "    for _ in range(n):\n",
    "        print(rand,innen, end=\"\")\n",
    "    print()\n",
    "\n",
    "\n",
    "\n",
    "\n",
    "# Testaufruf:\n",
    "quadrat(8, innen=\"* \", rand=\"#\")"
   ]
  },
  {
   "cell_type": "markdown",
   "metadata": {},
   "source": [
    "##### Aufgabe 4\n",
    "In einem Schachprogramm wird wie in der folgenden Abbildung jedes Feld des Schachbretts durch eine Zahl zwischen 0 und 63 codiert:\n",
    "\n",
    "\n",
    "Schreibe eine Funktion `koordinaten(pos)`, die eine Position `pos` in die übliche Koordinatenform (A1 bis H8) umrechnet. \n",
    "\n",
    "\n",
    "Dabei sollen die Koordinaten als \"Paar\", d.h. als *Tupel* mit zwei Elementen, zurückgeliefert werden.\n",
    "\n",
    "Bsp. `koordinaten(0)` liefert das Tupel `(\"A\", 8)`, denn das Feld links oben hat die Position 0 bzw die Koordinate A8."
   ]
  },
  {
   "cell_type": "markdown",
   "metadata": {},
   "source": [
    "##### Lösung"
   ]
  },
  {
   "cell_type": "code",
   "execution_count": 51,
   "metadata": {},
   "outputs": [
    {
     "ename": "AssertionError",
     "evalue": "Erwartetes Tupel: ('A', 7)  != dein Ergebnis: ('B', 8)",
     "output_type": "error",
     "traceback": [
      "\u001b[1;31m---------------------------------------------------------------------------\u001b[0m",
      "\u001b[1;31mAssertionError\u001b[0m                            Traceback (most recent call last)",
      "Cell \u001b[1;32mIn[51], line 31\u001b[0m\n\u001b[0;32m     29\u001b[0m \u001b[38;5;28;01mfor\u001b[39;00m pos, erwartet \u001b[38;5;129;01min\u001b[39;00m tests:\n\u001b[0;32m     30\u001b[0m     ergebnis \u001b[38;5;241m=\u001b[39m koordinaten(pos)\n\u001b[1;32m---> 31\u001b[0m     \u001b[38;5;28;01massert\u001b[39;00m ergebnis \u001b[38;5;241m==\u001b[39m erwartet, \u001b[38;5;124mf\u001b[39m\u001b[38;5;124m\"\u001b[39m\u001b[38;5;124mErwartetes Tupel: \u001b[39m\u001b[38;5;132;01m{\u001b[39;00merwartet\u001b[38;5;132;01m}\u001b[39;00m\u001b[38;5;124m  != dein Ergebnis: \u001b[39m\u001b[38;5;132;01m{\u001b[39;00mergebnis\u001b[38;5;132;01m}\u001b[39;00m\u001b[38;5;124m\"\u001b[39m\n\u001b[0;32m     33\u001b[0m \u001b[38;5;28mprint\u001b[39m(\u001b[38;5;124m\"\u001b[39m\u001b[38;5;124mAlle Tests erfolgreich!\u001b[39m\u001b[38;5;124m\"\u001b[39m)\n",
      "\u001b[1;31mAssertionError\u001b[0m: Erwartetes Tupel: ('A', 7)  != dein Ergebnis: ('B', 8)"
     ]
    }
   ],
   "source": [
    "def koordinaten(pos):\n",
    "    # Berechne die Spalte (A bis H)\n",
    "    spalte = chr(ord('A') + pos % 8)\n",
    "    # Berechne die Zeile (1 bis 8)\n",
    "    zeile = 8 - pos // 8\n",
    "    # Gib das Ergebnis als Tupel zurück\n",
    "    return (spalte, zeile)\n",
    "\n",
    "# Tests zur Selbstkontrolle\n",
    "tests = [\n",
    "    (0, ('A', 8)), (1, ('B', 8)), (2, ('C', 8)), (3, ('D', 8)),\n",
    "    (4, ('E', 8)), (5, ('F', 8)), (6, ('G', 8)), (7, ('H', 8)),\n",
    "    (8, ('A', 7)), (9, ('B', 7)), (10, ('C', 7)), (11, ('D', 7)),\n",
    "    (12, ('E', 7)), (13, ('F', 7)), (14, ('G', 7)), (15, ('H', 7)),\n",
    "    (16, ('A', 6)), (17, ('B', 6)), (18, ('C', 6)), (19, ('D', 6)),\n",
    "    (20, ('E', 6)), (21, ('F', 6)), (22, ('G', 6)), (23, ('H', 6)),\n",
    "    (24, ('A', 5)), (25, ('B', 5)), (26, ('C', 5)), (27, ('D', 5)),\n",
    "    (28, ('E', 5)), (29, ('F', 5)), (30, ('G', 5)), (31, ('H', 5)),\n",
    "    (32, ('A', 4)), (33, ('B', 4)), (34, ('C', 4)), (35, ('D', 4)),\n",
    "    (36, ('E', 4)), (37, ('F', 4)), (38, ('G', 4)), (39, ('H', 4)),\n",
    "    (40, ('A', 3)), (41, ('B', 3)), (42, ('C', 3)), (43, ('D', 3)),\n",
    "    (44, ('E', 3)), (45, ('F', 3)), (46, ('G', 3)), (47, ('H', 3)),\n",
    "    (48, ('A', 2)), (49, ('B', 2)), (50, ('C', 2)), (51, ('D', 2)),\n",
    "    (52, ('E', 2)), (53, ('F', 2)), (54, ('G', 2)), (55, ('H', 2)),\n",
    "    (56, ('A', 1)), (57, ('B', 1)), (58, ('C', 1)), (59, ('D', 1)),\n",
    "    (60, ('E', 1)), (61, ('F', 1)), (62, ('G', 1)), (63, ('H', 1)),\n",
    "]\n",
    "\n",
    "for pos, erwartet in tests:\n",
    "    ergebnis = koordinaten(pos)\n",
    "    assert ergebnis == erwartet, f\"Erwartetes Tupel: {erwartet}  != dein Ergebnis: {ergebnis}\"\n",
    "\n",
    "print(\"Alle Tests erfolgreich!\")\n"
   ]
  }
 ],
 "metadata": {
  "kernelspec": {
   "display_name": "Python 3",
   "language": "python",
   "name": "python3"
  },
  "language_info": {
   "codemirror_mode": {
    "name": "ipython",
    "version": 3
   },
   "file_extension": ".py",
   "mimetype": "text/x-python",
   "name": "python",
   "nbconvert_exporter": "python",
   "pygments_lexer": "ipython3",
   "version": "3.11.7"
  }
 },
 "nbformat": 4,
 "nbformat_minor": 4
}
