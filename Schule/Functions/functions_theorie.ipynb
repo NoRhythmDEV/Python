{
    "cells": [
     {
      "cell_type": "markdown",
      "metadata": {},
      "source": [
       "# Funktionen"
      ]
     },
     {
      "cell_type": "markdown",
      "metadata": {},
      "source": [
       "Links:\n",
       "- [Erklärungen und interaktive Beispiele zu *Funktionen* bei w3schools.com](https://www.w3schools.com/python/python_functions.asp)"
      ]
     },
     {
      "cell_type": "markdown",
      "metadata": {},
      "source": [
       "#### Einfache Unterprogramme ohne Parameter und Rückgabewert\n",
       "Das Schlüsselwort `def` leitet eine Funktionsdefinition ein. Der Körper der Funktion muss eingerückt werden"
      ]
     },
     {
      "cell_type": "code",
      "execution_count": 51,
      "metadata": {},
      "outputs": [
       {
        "name": "stdout",
        "output_type": "stream",
        "text": [
         "Ein Hund lief in die Küche\n",
         "und stahl dem Koch ein Ei.\n",
         "Da nahm der Koch den Löffel\n",
         "und schlug den Hund zu Brei.\n",
         "\n"
        ]
       }
      ],
      "source": [
       "def unterprogramm():\n",
       "    print(\"Ein Hund lief in die Küche\")\n",
       "    print(\"und stahl dem Koch ein Ei.\")\n",
       "    print(\"Da nahm der Koch den Löffel\")\n",
       "    print(\"und schlug den Hund zu Brei.\")\n",
       "    print()\n",
       "    \n",
       "# Text wieder ausgerückt --> wir sind wieder außerhalb von der Funktion\n",
       "unterprogramm()"
      ]
     },
     {
      "cell_type": "code",
      "execution_count": 52,
      "metadata": {},
      "outputs": [
       {
        "name": "stdout",
        "output_type": "stream",
        "text": [
         "Ein Hund lief in die Küche\n",
         "und stahl dem Koch ein Ei.\n",
         "Da nahm der Koch den Löffel\n",
         "und schlug den Hund zu Brei.\n",
         "\n",
         "Ein Hund lief in die Küche\n",
         "und stahl dem Koch ein Ei.\n",
         "Da nahm der Koch den Löffel\n",
         "und schlug den Hund zu Brei.\n",
         "\n",
         "Ein Hund lief in die Küche\n",
         "und stahl dem Koch ein Ei.\n",
         "Da nahm der Koch den Löffel\n",
         "und schlug den Hund zu Brei.\n",
         "\n"
        ]
       }
      ],
      "source": [
       "for i in range(3):\n",
       "    unterprogramm()"
      ]
     },
     {
      "cell_type": "markdown",
      "metadata": {},
      "source": [
       "#### Unterprogramme mit Parameter\n",
       "Auch Parameter müssen nicht mit Datentyp deklariert werden."
      ]
     },
     {
      "cell_type": "code",
      "execution_count": 4,
      "metadata": {},
      "outputs": [],
      "source": [
       "def begruesse(name):\n",
       "    print(\"Hallo\", name)"
      ]
     },
     {
      "cell_type": "code",
      "execution_count": 11,
      "metadata": {},
      "outputs": [
       {
        "name": "stdout",
        "output_type": "stream",
        "text": [
         "Hallo Andrea\n",
         "Hallo Jürgen\n",
         "Hallo Michael\n"
        ]
       }
      ],
      "source": [
       "namen = [\"Andrea\", \"Jürgen\", \"Michael\"]\n",
       "for name in namen:\n",
       "    begruesse(name)"
      ]
     },
     {
      "cell_type": "markdown",
      "metadata": {},
      "source": [
       "#### Funktionen mit Parameter und Rückgabewert "
      ]
     },
     {
      "cell_type": "code",
      "execution_count": 16,
      "metadata": {},
      "outputs": [],
      "source": [
       "def verdopple(zahl):\n",
       "    return zahl * 2\n",
       "\n",
       "# Heutzutage auch mit Typangaben möglich\n",
       "def verdopple(zahl: int) -> int:\n",
       "    return zahl * 2"
      ]
     },
     {
      "cell_type": "code",
      "execution_count": 13,
      "metadata": {},
      "outputs": [
       {
        "data": {
         "text/plain": [
          "42"
         ]
        },
        "execution_count": 13,
        "metadata": {},
        "output_type": "execute_result"
       }
      ],
      "source": [
       "verdopple(21)"
      ]
     },
     {
      "cell_type": "markdown",
      "metadata": {},
      "source": [
       "##### Ein weiteres Beispiel zu Funktion mit Parameter und Rückgabewert"
      ]
     },
     {
      "cell_type": "code",
      "execution_count": 25,
      "metadata": {},
      "outputs": [
       {
        "name": "stdout",
        "output_type": "stream",
        "text": [
         "Der größte Wert in der Liste ist:  19\n",
         "-23\n"
        ]
       }
      ],
      "source": [
       "def max_liste(my_list):\n",
       "    \"\"\"liefert den größten in der Liste my_list enthaltenen Wert zurück.\n",
       "    Achtung: Bisher wird der Spezialfall, dass my_list leer ist, nicht berücksichtigt.\"\"\"\n",
       "    max = my_list[0]\n",
       "    for i in range(1,len(my_list)):\n",
       "        if my_list[i] > max:\n",
       "            max = my_list[i]\n",
       "    return max\n",
       "\n",
       "# Bsp:\n",
       "liste_a = [1, 12, -5, -23, 19, 13, 0, -7]\n",
       "print(\"Der größte Wert in der Liste ist: \", max_liste(liste_a))"
      ]
     },
     {
      "cell_type": "markdown",
      "metadata": {},
      "source": [
       "**Anmerkung:** Natürlich ist `max()` standardmäßig in Python bereits vorhanden - schließlich sind bei Python für fast alle Bedürfnisse die [\"Batterien schon dabei\"](https://en.wikipedia.org/wiki/Batteries_Included#:~:text=Motto%20of%20the%20Python%20programming,parts%20required%20for%20full%20usability.). Diese und viele weitere sogenannte \"built-in function\" findest du z.B. auf [dieser w3schools-Seite](https://www.w3schools.com/python/python_ref_functions.asp) aufgelistet und erklärt."
      ]
     },
     {
      "cell_type": "code",
      "execution_count": 58,
      "metadata": {},
      "outputs": [
       {
        "data": {
         "text/plain": [
          "19"
         ]
        },
        "execution_count": 58,
        "metadata": {},
        "output_type": "execute_result"
       }
      ],
      "source": [
       "max(liste_a)"
      ]
     },
     {
      "cell_type": "markdown",
      "metadata": {},
      "source": [
       "##### Dokumentation von Funktionen mit Docstrings\n",
       "Alle Funktionen in der Python-Standardbibliotheken sind ausführlich dokumentiert. Auf die Dokumentation kann man auf verschiedene Arten zugreifen:\n",
       "\n",
       "- help()\n",
       "- in Jupyter: funktionsname?\n",
       "- in Jupyter: in der Kontexthilfe (Strg-i)"
      ]
     },
     {
      "cell_type": "code",
      "execution_count": 29,
      "metadata": {},
      "outputs": [
       {
        "name": "stdout",
        "output_type": "stream",
        "text": [
         "\u001b[0;31mSignature:\u001b[0m \u001b[0mmax_liste\u001b[0m\u001b[0;34m(\u001b[0m\u001b[0mmy_list\u001b[0m\u001b[0;34m)\u001b[0m\u001b[0;34m\u001b[0m\u001b[0;34m\u001b[0m\u001b[0m\n",
         "\u001b[0;31mDocstring:\u001b[0m\n",
         "liefert den größten in der Liste my_list enthaltenen Wert zurück.\n",
         "Achtung: Bisher wird der Spezialfall, dass my_list leer ist, nicht berücksichtigt.\n",
         "\u001b[0;31mFile:\u001b[0m      /var/folders/7_/8_zrcy313dz6yldn2rrmc5nm0000gn/T/ipykernel_50285/2709278797.py\n",
         "\u001b[0;31mType:\u001b[0m      function"
        ]
       }
      ],
      "source": [
       "# Führe diese Zelle aus (Strg-Enter). Durch das Fragezeichen wird der 'Docstring' angezeigt\n",
       "max_liste?"
      ]
     },
     {
      "cell_type": "code",
      "execution_count": 5,
      "metadata": {},
      "outputs": [
       {
        "name": "stdout",
        "output_type": "stream",
        "text": [
         "Help on function max_liste in module __main__:\n",
         "\n",
         "max_liste(my_list)\n",
         "    liefert den größten in der Liste my_list enthaltenen Wert zurück.\n",
         "    Achtung: Bisher wird der Spezialfall, dass my_list leer ist, nicht berücksichtigt.\n",
         "\n"
        ]
       }
      ],
      "source": [
       "# Das funktioniert auch mit selbstdefinierten Funktionen, wenn diese einen Docstring definiert haben\n",
       "help(max_liste)   # alternativ: max_liste?"
      ]
     },
     {
      "cell_type": "markdown",
      "metadata": {},
      "source": [
       "#### Rekursion"
      ]
     },
     {
      "cell_type": "code",
      "execution_count": 61,
      "metadata": {},
      "outputs": [],
      "source": [
       "def fakultaet(n):\n",
       "    if n < 2:\n",
       "        return 1\n",
       "    else:\n",
       "        return n * fakultaet(n-1)"
      ]
     },
     {
      "cell_type": "code",
      "execution_count": 62,
      "metadata": {},
      "outputs": [
       {
        "data": {
         "text/plain": [
          "720"
         ]
        },
        "execution_count": 62,
        "metadata": {},
        "output_type": "execute_result"
       }
      ],
      "source": [
       "fakultaet(6)"
      ]
     },
     {
      "cell_type": "markdown",
      "metadata": {},
      "source": [
       "### Einige Python-Besonderheiten"
      ]
     },
     {
      "cell_type": "markdown",
      "metadata": {},
      "source": [
       "#### Default-Argumente für Parameter"
      ]
     },
     {
      "cell_type": "code",
      "execution_count": 30,
      "metadata": {},
      "outputs": [
       {
        "name": "stdout",
        "output_type": "stream",
        "text": [
         "Hallo Herr Schmidt\n",
         "Hallo Frau Meier\n",
         "Hallo Präsident Müller\n",
         "Help on built-in function print in module builtins:\n",
         "\n",
         "print(*args, sep=' ', end='\\n', file=None, flush=False)\n",
         "    Prints the values to a stream, or to sys.stdout by default.\n",
         "    \n",
         "    sep\n",
         "      string inserted between values, default a space.\n",
         "    end\n",
         "      string appended after the last value, default a newline.\n",
         "    file\n",
         "      a file-like object (stream); defaults to the current sys.stdout.\n",
         "    flush\n",
         "      whether to forcibly flush the stream.\n",
         "\n"
        ]
       }
      ],
      "source": [
       "def begruesse(nachname, anrede=\"Frau\"):\n",
       "    print(\"Hallo\", anrede, nachname)\n",
       "    \n",
       "# Wenn die Reihenfolge der Parameter beim Aufruf beachtet wird, kann auf den Variablennamen verzichtet werden     \n",
       "begruesse(\"Schmidt\", \"Herr\")\n",
       "begruesse(\"Meier\")\n",
       "\n",
       "begruesse(nachname=\"Müller\", anrede=\"Präsident\")\n",
       "\n",
       "# Parameter können beim Aufruf von Unterprogrammen auch mit Variablennamen bedient werden\n",
       "\n",
       "help(print)\n"
      ]
     },
     {
      "cell_type": "markdown",
      "metadata": {},
      "source": [
       "#### Positionale vs Keyword-Argumente\n",
       "*Beispiel:* Was passiert wohl beim folgenden Funktionsaufruf?  \n",
       "`zeichne_kreis(100, 100, 50, 0, 100, 255)`?\n",
       "\n",
       "Die Bedeutung dieses Aufrufs erschließt sich nur, wenn man weiß, welche Parameter die Funktion `zeiche_kreis()` hat und in welcher *Reihenfolge* diese erwartet werden. D.h. obwohl die Zahl 100 in diesem Funktionsaufruf dreimal vorkommt, hat sie je nach *Position* in der Argumentliste eine andere Bedeutung.\n",
       "\n",
       "In Python kann man beim Aufruf von Funktionen nicht nur die *Werte*, sondern auch die *Variablennamen* der Parameter angegeben (Fachbegriff: Keyword-Arguments). Wenn eine Funktion *viele* Parameter hat, kann es die Lesbarkeit des Codes deutlich erhöhen, nicht nur die Argumente, sondern auch die zugehörigen Parameternamen zu nennen.\n",
       "\n",
       "Mit Keyword-Argumenten sieht obige Aufruf so aus:  \n",
       "`zeichne_kreis(x=100, y=100, radius=50, rot=0, gruen=100, blau=255)`\n",
       "\n",
       "Damit bekommt der Leser des Codes schon einen viel besseren Hinweis darauf, was der Funktionsaufruf bezweckt.\n",
       "\n",
       "**Wichtig:** Da bei der Verwendung von Keyword-Argumenten immer klar ist, welches Argument welchem Parameter zugewiesen werden soll, darf man die Reihenfolge der Argumente sogar verändern!"
      ]
     },
     {
      "cell_type": "code",
      "execution_count": 4,
      "metadata": {},
      "outputs": [
       {
        "name": "stdout",
        "output_type": "stream",
        "text": [
         "Meine Hund heißt Struppi\n",
         "Meine Katze heißt Mimi\n",
         "Meine Giraffe heißt Gisela\n"
        ]
       }
      ],
      "source": [
       "def beschreibe_tier(name, tierart, ist_weiblich=True):\n",
       "    pronomen = \"Meine\" if ist_weiblich else \"Mein\"    # if als Ausdruck, der einen Wert zurückliefert\n",
       "    print(pronomen, tierart, \"heißt\", name)\n",
       "    \n",
       "beschreibe_tier(\"Struppi\", \"Hund\")    # Was war nochmal die Bedeutung des bool-Parameters?\n",
       "beschreibe_tier(\"Mimi\", \"Katze\", ist_weiblich=True)   # Viel leichter verständlich!\n",
       "\n",
       "beschreibe_tier(tierart=\"Giraffe\", ist_weiblich=True, name=\"Gisela\")   # Bei keyword-Arguments ist die Reihenfolge egal - der Parametername macht ja alles klar!"
      ]
     },
     {
      "cell_type": "markdown",
      "metadata": {},
      "source": [
       "##### Keyword- und Default-Argumente kombinieren\n",
       "Besonders hilfreich ist die *Kombination* von Keyword- und Default-Argumenten. Man kann beim Aufruf einer Funktion auf beliebige Default-Argumente verzichten und gleichzeitig durch explizite Keyword-Argument klar machen, welche Argumente gesetzt werden sollen.\n",
       "\n",
       "Diese Vorgehensweise ersetzt einen Großteil der Anwendungsfälle für das *Überladen* von Funktionen in anderen Programmiersprachen."
      ]
     },
     {
      "cell_type": "code",
      "execution_count": 7,
      "metadata": {},
      "outputs": [
       {
        "name": "stdout",
        "output_type": "stream",
        "text": [
         "ein Kreis mit Mittelpunkt (10|10), Radius 20, RGB-Farbe: #000000\n",
         "ein Kreis mit Mittelpunkt (0|30), Radius 100, RGB-Farbe: #000064\n",
         "ein Kreis mit Mittelpunkt (30|0), Radius 100, RGB-Farbe: #64C800\n",
         "ein Kreis mit Mittelpunkt (20|30), Radius 3, RGB-Farbe: #008500\n",
         "ein Kreis mit Mittelpunkt (20|30), Radius 100, RGB-Farbe: #C80000\n"
        ]
       }
      ],
      "source": [
       "def beschreibe_kreis(x=0, y=0, radius=10, rot=0, gruen=0, blau=0):\n",
       "    h = f\"{rot:02X}{gruen:02X}{blau:02X}\"  # just for fun: Umrechnen in Hexadezimalcode\n",
       "    print(f\"ein Kreis mit Mittelpunkt ({x}|{y}), Radius {radius}, RGB-Farbe: #{h}\")\n",
       "    \n",
       "beschreibe_kreis(x=10, y=10, radius=20)\n",
       "beschreibe_kreis(y=30, radius=100, blau=100)\n",
       "beschreibe_kreis(x=30, radius=100, rot=100, gruen=200)\n",
       "beschreibe_kreis(20, 30, gruen=133, radius=3)\n",
       "beschreibe_kreis(20, 30, 100, 200, 0)   # Das kommt dir inzwischen furchbar unleserlich vor? Gut!"
      ]
     },
     {
      "cell_type": "markdown",
      "metadata": {},
      "source": [
       "Übrigens können wir in Jupyter solche Kreise auch direkt als SVG-Formen zeichnen:"
      ]
     },
     {
      "cell_type": "code",
      "execution_count": 11,
      "metadata": {},
      "outputs": [
       {
        "data": {
         "image/svg+xml": [
          "<svg width=\"600\" height=\"80\"> <circle cx=\"50\" cy=\"40\" r=\"30\" fill=\"#C80085\"> </circle></svg>"
         ],
         "text/plain": [
          "<IPython.core.display.SVG object>"
         ]
        },
        "execution_count": 11,
        "metadata": {},
        "output_type": "execute_result"
       }
      ],
      "source": [
       "from IPython.display import SVG\n",
       "\n",
       "def zeichne_kreis(x, y, radius=10, rot=0, gruen=0, blau=0):\n",
       "    h = f\"{rot:02X}{gruen:02X}{blau:02X}\"  # just for fun: Umrechnen in Hexadezimalcode\n",
       "    svg_str = f'''<svg width=\"600\" height=\"80\"> <circle cx=\"{x}\" cy=\"{y}\" r=\"{radius}\" fill=\"#{h}\"> </circle></svg>'''\n",
       "    # print(svg_str)\n",
       "    return SVG(svg_str)\n",
       "\n",
       "# Ändere einige der folgenden Funktionsargumente. Was passiert bei der Ausführung?\n",
       "zeichne_kreis(50, 40, blau=133, rot=200, radius=30)"
      ]
     },
     {
      "cell_type": "markdown",
      "metadata": {},
      "source": [
       "#### Funktionen mit mehreren Rückgabewerten\n",
       "Sehr nützlich: Python-Funktionen können *mehrere* Werte auf einmal zurückliefern."
      ]
     },
     {
      "cell_type": "code",
      "execution_count": 12,
      "metadata": {},
      "outputs": [
       {
        "name": "stdout",
        "output_type": "stream",
        "text": [
         "17 / 5 = 3 Rest 2\n"
        ]
       }
      ],
      "source": [
       "def div_and_mod(x,y):\n",
       "    a = x // y\n",
       "    b = x % y\n",
       "    return a, b\n",
       "\n",
       "z = 17\n",
       "n = 5\n",
       "ergebnis, rest = div_and_mod(z, n)  \n",
       "print(f\"{z} / {n} = {ergebnis} Rest {rest}\")\n"
      ]
     },
     {
      "cell_type": "markdown",
      "metadata": {},
      "source": [
       "Wie das funktioniert sieht man in der untenstehenden Version desselben Beispiels:\n",
       "- Die Rückgabewerte werden automatisch in (1) zu einem **Tupel** zusammengefasst. (So gesehen gibt es eigentlich nur einen Rückgabewert.) \n",
       "- Dieses Tupel wird in (2) *destrukturiert*, d.h. die beiden im Tupel gespeicherten Werte werden den beiden neuen Variablen zugewiesen"
      ]
     },
     {
      "cell_type": "code",
      "execution_count": 1,
      "metadata": {},
      "outputs": [
       {
        "name": "stdout",
        "output_type": "stream",
        "text": [
         "4464248192\n",
         "4464248192\n",
         "4496338496\n",
         "4496338496\n"
        ]
       },
       {
        "ename": "NameError",
        "evalue": "name 'ergebnis' is not defined",
        "output_type": "error",
        "traceback": [
         "\u001b[0;31m---------------------------------------------------------------------------\u001b[0m",
         "\u001b[0;31mNameError\u001b[0m                                 Traceback (most recent call last)",
         "Cell \u001b[0;32mIn[1], line 12\u001b[0m\n\u001b[1;32m     10\u001b[0m tup3 \u001b[39m=\u001b[39m div_and_mod(\u001b[39m17\u001b[39m,\u001b[39m5\u001b[39m)   \u001b[39m# (2) Zurückgegebenes Tupel wird in zwei Variablen \"destrukturiert\"\u001b[39;00m\n\u001b[1;32m     11\u001b[0m \u001b[39mprint\u001b[39m(\u001b[39mid\u001b[39m(tup3))\n\u001b[0;32m---> 12\u001b[0m \u001b[39mprint\u001b[39m(\u001b[39m'\u001b[39m\u001b[39m17 / 5 = \u001b[39m\u001b[39m'\u001b[39m,ergebnis, \u001b[39m\"\u001b[39m\u001b[39mR\u001b[39m\u001b[39m\"\u001b[39m,rest )\n",
         "\u001b[0;31mNameError\u001b[0m: name 'ergebnis' is not defined"
        ]
       }
      ],
      "source": [
       "def div_and_mod(x,y):\n",
       "    a = x // y\n",
       "    b = x % y\n",
       "    tup = (a,b)\n",
       "    print(id(tup))\n",
       "    return tup  # (1) a und b zu einem Tupel zusammenfassen\n",
       "\n",
       "tup2 = div_and_mod(17,5)   # (2) Zurückgegebenes Tupel wird in zwei Variablen \"destrukturiert\"\n",
       "print(id(tup2))\n",
       "tup3 = div_and_mod(17,5)   # (2) Zurückgegebenes Tupel wird in zwei Variablen \"destrukturiert\"\n",
       "print(id(tup3))\n",
       "print('17 / 5 = ',ergebnis, \"R\",rest )"
      ]
     },
     {
      "cell_type": "code",
      "execution_count": 136,
      "metadata": {},
      "outputs": [
       {
        "name": "stdout",
        "output_type": "stream",
        "text": [
         "17 / 5 = 3 Rest 2\n"
        ]
       }
      ],
      "source": [
       "# Übrigens: Es gibt (natürlich!) bereits eine Funktion, die das Ergebnis einer Ganzzahldivision mit Rest liefert:\n",
       "ergebnis, rest = divmod(17,5)\n",
       "print(f\"{z} / {n} = {ergebnis} Rest {rest}\")"
      ]
     },
     {
      "cell_type": "markdown",
      "metadata": {},
      "source": [
       "### Teaser: Funktionen höherer Ordnung *(nicht Thema dieses Kurses)*\n",
       "Funktionen sind in Python ganz normale *Objekte*, deshalb können sie in Variablen gespeichert, in Listen gesammelt oder auch selbst als Argument einer anderen Funktion verwendet werden."
      ]
     },
     {
      "cell_type": "code",
      "execution_count": 18,
      "metadata": {},
      "outputs": [
       {
        "name": "stdout",
        "output_type": "stream",
        "text": [
         "Hallo\n",
         "Führe die nullte Funktion in der Liste aus:\n",
         "Hallo\n",
         "Führe alle Funktionen in der Liste aus:\n",
         "Hallo\n",
         "Tach\n"
        ]
       }
      ],
      "source": [
       "# Beispiel: Zwei sehr einfache Funktionen\n",
       "\n",
       "def sage_hallo():\n",
       "    print(\"Hallo\")\n",
       "    \n",
       "def begruesse_zufaellig():\n",
       "    from random import choice\n",
       "    begruessungen = \"Hi Servus Tach Moin Mahlzeit Ciao\".split()\n",
       "    begruessung = choice(begruessungen)\n",
       "    print(begruessung)\n",
       "    \n",
       "f1 = sage_hallo   # Eine andere Referenz auf dasselbe Funktionsobjekt\n",
       "f2 = begruesse_zufaellig\n",
       "\n",
       "f1()    # Klammern hinter dem Variablennamen = Aufrufen (funktioniert auch über die neue Referenz)\n",
       "\n",
       "funktionen = [f1, f2]   # Eine Liste voller Funktionsreferenzen\n",
       "\n",
       "print(\"Führe die nullte Funktion in der Liste aus:\")\n",
       "funktionen[0]()  # Element 0 wird aus der Liste geholt und dann sofort ausgeführt\n",
       "\n",
       "print(\"Führe alle Funktionen in der Liste aus:\")\n",
       "for f in funktionen:\n",
       "    f()"
      ]
     },
     {
      "cell_type": "markdown",
      "metadata": {},
      "source": [
       "In Programmen müssen oft Befehle eine bestimmte Anzahl von Malen wiederholt werden. Die meisten Programmiersprachen bieten dafür keinen eigenen Schleifentyp. In Python z.B. muss man über ein `range` iterieren - für Anfänger verwirrend wie die Schreibweise `for(int i; i < n; i++` in von C abgeleiteten Sprachen.\n",
       "\n",
       "Könnte man nicht eine Wiederholungsschleife *selbst* programmieren?"
      ]
     },
     {
      "cell_type": "code",
      "execution_count": 161,
      "metadata": {},
      "outputs": [
       {
        "name": "stdout",
        "output_type": "stream",
        "text": [
         "Hallo\n",
         "Hallo\n",
         "Hallo\n",
         "----------\n",
         "Hi\n",
         "Tach\n",
         "Moin\n",
         "Ciao\n",
         "Servus\n",
         "Hi\n",
         "Hi\n"
        ]
       }
      ],
      "source": [
       "def wiederhole(anzahl, eine_funktion):    # Die Funktion erhält eine andere Funktion als Parameter\n",
       "    for i in range(anzahl):\n",
       "        eine_funktion()   # Hier wird die übergebene Funktion ausgeführt\n",
       "        \n",
       "wiederhole(3, sage_hallo)  \n",
       "print(\"----------\")\n",
       "wiederhole(7, begruesse_zufaellig)"
      ]
     },
     {
      "cell_type": "code",
      "execution_count": 185,
      "metadata": {},
      "outputs": [
       {
        "name": "stdout",
        "output_type": "stream",
        "text": [
         "Die zufällig ausgewählte Funktion sage_hallo wird 3-mal ausgeführt:\n",
         "Hallo\n",
         "Hallo\n",
         "Hallo\n"
        ]
       }
      ],
      "source": [
       "import random\n",
       "\n",
       "funktionen = [sage_hallo, begruesse_zufaellig]   # Eine Liste voller Funktionen\n",
       "eine_funktion = random.choice(funktionen)   # Eine Variable, die eine Funktion enthält\n",
       "n = random.randint(1, 6)\n",
       "print(f\"Die zufällig ausgewählte Funktion {eine_funktion.__name__} wird {n}-mal ausgeführt:\")\n",
       "wiederhole(n, eine_funktion)"
      ]
     }
    ],
    "metadata": {
     "kernelspec": {
      "display_name": "Python 3",
      "language": "python",
      "name": "python3"
     },
     "language_info": {
      "codemirror_mode": {
       "name": "ipython",
       "version": 3
      },
      "file_extension": ".py",
      "mimetype": "text/x-python",
      "name": "python",
      "nbconvert_exporter": "python",
      "pygments_lexer": "ipython3",
      "version": "3.11.1"
     }
    },
    "nbformat": 4,
    "nbformat_minor": 4
   }